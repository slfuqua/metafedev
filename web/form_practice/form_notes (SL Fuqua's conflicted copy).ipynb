{
 "cells": [
  {
   "metadata": {},
   "id": "b491c989",
   "cell_type": "markdown",
   "source": "## Input types\nYou already learned about the input HTML tag and how the type property determines the data your users can type in. This cheat sheet should be a reference to decide what type best suits your use case. Most of the inputs go hand in hand with the label tag for best accessibility practices.\n"
  },
  {
   "metadata": {},
   "id": "1ad121f7",
   "cell_type": "markdown",
   "source": "### Button\n\nThis displays a clickable button and it’s mostly used in HTML forms to activate a script when clicked. `<input type=\"button\" value=\"Click me\" onclick=\"msg()\" />`\n\nKeep in mind you can also define buttons with the `<button>` tag, with the added benefit of being able to place content like text or images inside the tag.\n"
  },
  {
   "metadata": {},
   "id": "0e2a498b",
   "cell_type": "markdown",
   "source": "<button onclick=\"alert('Are you sure you want to continue?')\"> \n    <img src=\"https://yourserver.com/button_img.jpg\" \n        alt=\"Submit the form\" height=\"64\" width=\"64\">\n </button> \n"
  },
  {
   "metadata": {},
   "id": "f57ac4a1",
   "cell_type": "markdown",
   "source": "### Checkbox\n\nDefines a check box allowing single values to be selected or deselected. They are used to let a user select one or more options of a limited number of choices.\n\nHTML checkbox that belong the same group should have the same name, but different values.  \n"
  },
  {
   "metadata": {},
   "id": "1295ae23",
   "cell_type": "markdown",
   "source": "<form>\n  <p>Choose your favorite fruits:</p>\n  <label><input type=\"checkbox\" name=\"fruits\" value=\"apple\"> Apple</label>\n  <label><input type=\"checkbox\" name=\"fruits\" value=\"banana\"> Banana</label>\n  <label><input type=\"checkbox\" name=\"fruits\" value=\"cherry\"> Cherry</label>\n  <button type=\"submit\">Submit</button>\n</form>\n\n"
  },
  {
   "metadata": {
    "trusted": false
   },
   "id": "6cecb6ab",
   "cell_type": "code",
   "source": "",
   "execution_count": null,
   "outputs": []
  },
  {
   "metadata": {},
   "id": "5689e6bf",
   "cell_type": "markdown",
   "source": "### Radio\n\nDisplays a radio button, allowing only a single value to be selected out of multiple choices. They are normally presented in radio groups, which is a collection of radio buttons describing a set of related options that share the same \"name attribute,  but have different values.\n"
  },
  {
   "metadata": {},
   "id": "4ad65987",
   "cell_type": "markdown",
   "source": "<form>\n  <p>Select your preferred contact method:</p>\n  <label><input type=\"radio\" name=\"contact\" value=\"email\"> Email</label>\n  <label><input type=\"radio\" name=\"contact\" value=\"phone\"> Phone</label>\n  <label><input type=\"radio\" name=\"contact\" value=\"text\"> Text Message</label>\n  <button type=\"submit\">Submit</button>\n</form>\n\n"
  },
  {
   "metadata": {},
   "id": "82b1d771",
   "cell_type": "markdown",
   "source": "### Submit\n\nDisplays a submit button for submitting all values from an HTML form to a form-handler, typically a server. The form-handler is specified in the form’s \"action\" attribute.  Note that the button element is preferred.\n"
  },
  {
   "metadata": {},
   "id": "abee0bf4",
   "cell_type": "markdown",
   "source": "<form action=\"myserver.com\" method=\"POST\">\n<!-- Form inputs... -->\n<input type=\"submit\" value=\"Submit\" />\n</form>\n"
  },
  {
   "metadata": {},
   "id": "13875ce5",
   "cell_type": "markdown",
   "source": "### Text\n\nDefines a basic single-line text field that a user can enter text into. \n"
  },
  {
   "metadata": {},
   "id": "c3fd9f24",
   "cell_type": "markdown",
   "source": "<label for=\"fname\">First name:</label> \n<input type=\"text\" id=\"fname\" name=\"fname\"> \n"
  },
  {
   "metadata": {},
   "id": "4c577b2f",
   "cell_type": "markdown",
   "source": "### Password\n\nDefines a single-line text field whose value is obscured, suited for sensitive information like passwords.\n"
  },
  {
   "metadata": {},
   "id": "0105a485",
   "cell_type": "markdown",
   "source": "<label for=\"pwd\">Password:</label> \n<input type=\"password\" id=\"pwd\" name=\"pwd\"> \n"
  },
  {
   "metadata": {},
   "id": "5b44f1a6",
   "cell_type": "markdown",
   "source": "### Date\n\nDisplays a control for entering a date with no time (year, month and day).\n"
  },
  {
   "metadata": {},
   "id": "9c08b543",
   "cell_type": "markdown",
   "source": "<label for=\"dob\">Date of birth:</label>\n<input type=\"date\" id=\"dob\" name=\"date of birth\">\n"
  },
  {
   "metadata": {},
   "id": "157e1fb7",
   "cell_type": "markdown",
   "source": "### Datetime-local\n\nDefines a control for entering a date and time, including the year, month and day, as well as the time in hours and minutes.\n\n"
  },
  {
   "metadata": {},
   "id": "10482258",
   "cell_type": "markdown",
   "source": "<label for=\"birthdaytime\">Birthday (date and time):</label>\n<input type=\"datetime-local\" id=\"birthdaytime\" name=\"birthdaytime\">\n"
  },
  {
   "metadata": {},
   "id": "0a299834",
   "cell_type": "markdown",
   "source": "### Email\n\nDefines a field for an email address. It’s similar to a plain text input, with the addition that it validates automatically when submitted to the server.\n"
  },
  {
   "metadata": {},
   "id": "bfdac281",
   "cell_type": "markdown",
   "source": "<label for=\"email\">Enter your email:</label>\n<input type=\"email\" id=\"email\" name=\"email\">\n"
  },
  {
   "metadata": {},
   "id": "3c740ff6",
   "cell_type": "markdown",
   "source": "### File\n\nDisplays a control that lets the user select and upload a file from their computer. To define the types of files permissible you can use the \"accept\" attribute. Also, to enable multiple files to be selected, add the \"multiple\" attribute.\n\n"
  },
  {
   "metadata": {},
   "id": "feae71a0",
   "cell_type": "markdown",
   "source": "<label for=\"myfile\">Select a file:</label>\n<input type=\"file\" id=\"myfile\" name=\"myfile\">\n"
  },
  {
   "metadata": {},
   "id": "15c778a1",
   "cell_type": "markdown",
   "source": "### Hidden\n\nDefines a control that is not displayed but whose value is still submitted to the server.\n"
  },
  {
   "metadata": {},
   "id": "373facaf",
   "cell_type": "markdown",
   "source": "<input type=\"hidden\" id=\"custId\" name=\"custId\" value=\"3487\">\n"
  },
  {
   "metadata": {},
   "id": "a49db225",
   "cell_type": "markdown",
   "source": "### Image\n\nDefines an image as a graphical submit button. You should use the “src” attribute to point to the location of your image file.\n"
  },
  {
   "metadata": {},
   "id": "ffc7f20f",
   "cell_type": "markdown",
   "source": "<input type=\"image\"src=\"submit_img.png\" alt=\"Submit\" width=\"48\" height=\"48\">\n"
  },
  {
   "metadata": {},
   "id": "f8da636e",
   "cell_type": "markdown",
   "source": "### Number\n\nDefines a control for entering a number. You can use attributes to specify restrictions, such as min and max values allowed, number intervals or a default value.\n"
  },
  {
   "metadata": {},
   "id": "e7da872f",
   "cell_type": "markdown",
   "source": "<input type=\"number\" id=\"quantity\" name=\"quantity\" min=\"1\" max=\"5\">\n"
  },
  {
   "metadata": {},
   "id": "d440e464",
   "cell_type": "markdown",
   "source": "### Range\n\nDisplays a range widget for specifying a number between two values. The precise value, however, is not considered important. This is typically represented using a slider or dial control. To define the range of acceptable values, use the “min” and “max” properties.\n"
  },
  {
   "metadata": {},
   "id": "c77ccaa7",
   "cell_type": "markdown",
   "source": "<label for=\"volume\">Volume:</label>\n<input type=\"range\" id=\"volume\" name=\"volume\" min=\"0\" max=\"10\">\n"
  },
  {
   "metadata": {},
   "id": "90d23a5b",
   "cell_type": "markdown",
   "source": "### Reset\n\nDisplays a button that resets the contents of the form to their default values.\n"
  },
  {
   "metadata": {},
   "id": "7c5c9d12",
   "cell_type": "markdown",
   "source": "<input type=\"reset\">\n"
  },
  {
   "metadata": {},
   "id": "230dd579",
   "cell_type": "markdown",
   "source": "### Search\n\nDefines a text field for entering a search query. These are functionally identical to text inputs, but may be styled differently depending on the browser.\n"
  },
  {
   "metadata": {},
   "id": "90bc0788",
   "cell_type": "markdown",
   "source": "<label for=\"gsearch\">Search in Google:</label>\n<input type=\"search\" id=\"gsearch\" name=\"gsearch\">\n"
  },
  {
   "metadata": {},
   "id": "d1188894",
   "cell_type": "markdown",
   "source": "### Time\n\nDisplays a control for entering a time value in hours and minutes, with no time zone.\n"
  },
  {
   "metadata": {
    "vscode": {
     "languageId": "html"
    },
    "trusted": false
   },
   "id": "b0b952c6",
   "cell_type": "code",
   "source": "<label for=\"appt\">Select a time:</label>\n<input type=\"time\" id=\"appt\" name=\"appt\">\n",
   "execution_count": null,
   "outputs": []
  },
  {
   "metadata": {},
   "id": "35e1f311",
   "cell_type": "markdown",
   "source": "### Tel\n\nDefines a control for entering a telephone number. Browsers that do not support “tel” fall back to standard text input. You can optionally use the \"pattern\" field to perform validation.\n"
  },
  {
   "metadata": {
    "vscode": {
     "languageId": "html"
    },
    "trusted": false
   },
   "id": "56507dd2",
   "cell_type": "code",
   "source": "<label for=\"phone\">Enter your phone number:</label>\n<input type=\"tel\" id=\"phone\" name=\"phone\" pattern=\"[+]{1}[0-9]{11,14}\">\n",
   "execution_count": null,
   "outputs": []
  },
  {
   "metadata": {},
   "id": "f0f9d817",
   "cell_type": "markdown",
   "source": "### Url\n\nDisplays a field for entering a text URL. It works similar to a text input, but performs automatic validation before being submitted to the server.\n"
  },
  {
   "metadata": {},
   "id": "b4f77e9d",
   "cell_type": "markdown",
   "source": "<label for=\"homepage\">Add your homepage:</label>\n<input type=\"url\" id=\"homepage\" name=\"homepage\">\n"
  },
  {
   "metadata": {},
   "id": "56002f32",
   "cell_type": "markdown",
   "source": "### Week\n\nDefines a control for entering a date consisting of a week-year number and a year, with no time zone. Keep in mind that this is a newer type that is not supported by all the browsers.\n"
  },
  {
   "metadata": {
    "vscode": {
     "languageId": "html"
    },
    "trusted": false
   },
   "id": "02d7951b",
   "cell_type": "code",
   "source": "<label for=\"week\">Select a week:</label>\n<input type=\"week\" id=\"week\" name=\"week\">\n",
   "execution_count": null,
   "outputs": []
  },
  {
   "metadata": {},
   "id": "f6b1f823",
   "cell_type": "markdown",
   "source": "### Month\n\nDisplays a control for entering a month and year, with no time zone. Keep in mind that this is a newer type that is not supported by all the browsers.\n"
  }
 ],
 "metadata": {
  "language_info": {
   "name": "python",
   "version": "3.10.4",
   "mimetype": "text/x-python",
   "codemirror_mode": {
    "name": "ipython",
    "version": 3
   },
   "pygments_lexer": "ipython3",
   "nbconvert_exporter": "python",
   "file_extension": ".py"
  },
  "kernelspec": {
   "name": "python3",
   "display_name": "Python 3",
   "language": "python"
  }
 },
 "nbformat": 4,
 "nbformat_minor": 5
}