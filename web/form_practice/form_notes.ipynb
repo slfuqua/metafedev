{
 "cells": [
  {
   "cell_type": "markdown",
   "id": "b491c989",
   "metadata": {},
   "source": [
    "## Input types\n",
    "You already learned about the input HTML tag and how the type property determines the data your users can type in. This cheat sheet should be a reference to decide what type best suits your use case. Most of the inputs go hand in hand with the label tag for best accessibility practices.\n"
   ]
  },
  {
   "cell_type": "markdown",
   "id": "1ad121f7",
   "metadata": {},
   "source": [
    "### Button\n",
    "\n",
    "This displays a clickable button and it’s mostly used in HTML forms to activate a script when clicked. `<input type=\"button\" value=\"Click me\" onclick=\"msg()\" />`\n",
    "\n",
    "Keep in mind you can also define buttons with the `<button>` tag, with the added benefit of being able to place content like text or images inside the tag.\n"
   ]
  },
  {
   "cell_type": "markdown",
   "id": "0e2a498b",
   "metadata": {},
   "source": [
    "<button> \n",
    "    <img src=\"./register.svg\" \n",
    "        alt=\"Submit the form\" height=\"64\" width=\"64\">\n",
    " </button> \n"
   ]
  },
  {
   "cell_type": "markdown",
   "id": "f9489278",
   "metadata": {},
   "source": []
  },
  {
   "cell_type": "markdown",
   "id": "f57ac4a1",
   "metadata": {},
   "source": [
    "### Checkbox\n",
    "\n",
    "Defines a check box allowing single values to be selected or deselected. They are used to let a user select one or more options of a limited number of choices.\n"
   ]
  },
  {
   "cell_type": "markdown",
   "id": "1295ae23",
   "metadata": {},
   "source": [
    "<input type=\"checkbox\" id=\"dog\" name=\"dog\" value=\"Dog\">\n",
    "<label for=\"dog\">I like dogs</label>\n",
    "<input type=\"checkbox\" id=\"cat\" name=\"cat\" value=\"Cat\">\n",
    "<label for=\"cat\">I like cats</label>\n"
   ]
  },
  {
   "cell_type": "markdown",
   "id": "5689e6bf",
   "metadata": {},
   "source": [
    "### Radio\n",
    "\n",
    "Displays a radio button, allowing only a single value to be selected out of multiple choices. They are normally presented in radio groups, which is a collection of radio buttons describing a set of related options that share the same \"name\" attribute.\n"
   ]
  },
  {
   "cell_type": "markdown",
   "id": "4ad65987",
   "metadata": {},
   "source": [
    "<input type=\"radio\" id=\"light\" name=\"theme\" value=\"Light\"> \n",
    "<label for=\"light\">Light</label> \n",
    "<input type=\"radio\" id=\"dark\" name=\"theme\" value=\"Dark\"> \n",
    "<label for=\"dark\">Dark</label> \n"
   ]
  },
  {
   "cell_type": "markdown",
   "id": "82b1d771",
   "metadata": {},
   "source": [
    "### Submit\n",
    "\n",
    "Displays a submit button for submitting all values from an HTML form to a form-handler, typically a server. The form-handler is specified in the form’s \"action\" attribute:\n"
   ]
  },
  {
   "cell_type": "markdown",
   "id": "abee0bf4",
   "metadata": {},
   "source": [
    "<form action=\"myserver.com\" method=\"POST\">\n",
    "<!-- Form inputs... -->\n",
    "<input type=\"submit\" value=\"Submit\" />\n",
    "</form>\n"
   ]
  },
  {
   "cell_type": "markdown",
   "id": "13875ce5",
   "metadata": {},
   "source": [
    "### Text\n",
    "\n",
    "Defines a basic single-line text field that a user can enter text into. \n"
   ]
  },
  {
   "cell_type": "markdown",
   "id": "c3fd9f24",
   "metadata": {},
   "source": [
    "<label for=\"fname\">First name:</label> \n",
    "<input type=\"text\" id=\"fname\" name=\"fname\"> \n"
   ]
  },
  {
   "cell_type": "markdown",
   "id": "4c577b2f",
   "metadata": {},
   "source": [
    "### Password\n",
    "\n",
    "Defines a single-line text field whose value is obscured, suited for sensitive information like passwords.\n"
   ]
  },
  {
   "cell_type": "markdown",
   "id": "0105a485",
   "metadata": {},
   "source": [
    "<label for=\"pwd\">Password:</label> \n",
    "<input type=\"password\" id=\"pwd\" name=\"pwd\"> \n"
   ]
  },
  {
   "cell_type": "markdown",
   "id": "5b44f1a6",
   "metadata": {},
   "source": [
    "### Date\n",
    "\n",
    "Displays a control for entering a date with no time (year, month and day).\n"
   ]
  },
  {
   "cell_type": "markdown",
   "id": "9c08b543",
   "metadata": {},
   "source": [
    "<label for=\"dob\">Date of birth:</label>\n",
    "<input type=\"date\" id=\"dob\" name=\"date of birth\">\n"
   ]
  },
  {
   "cell_type": "markdown",
   "id": "157e1fb7",
   "metadata": {},
   "source": [
    "### Datetime-local\n",
    "\n",
    "Defines a control for entering a date and time, including the year, month and day, as well as the time in hours and minutes.\n",
    "\n"
   ]
  },
  {
   "cell_type": "markdown",
   "id": "10482258",
   "metadata": {},
   "source": [
    "<label for=\"birthdaytime\">Birthday (date and time):</label>\n",
    "<input type=\"datetime-local\" id=\"birthdaytime\" name=\"birthdaytime\">\n"
   ]
  },
  {
   "cell_type": "markdown",
   "id": "0a299834",
   "metadata": {},
   "source": [
    "### Email\n",
    "\n",
    "Defines a field for an email address. It’s similar to a plain text input, with the addition that it validates automatically when submitted to the server.\n"
   ]
  },
  {
   "cell_type": "markdown",
   "id": "bfdac281",
   "metadata": {},
   "source": [
    "<label for=\"email\">Enter your email:</label>\n",
    "<input type=\"email\" id=\"email\" name=\"email\">\n"
   ]
  },
  {
   "cell_type": "markdown",
   "id": "3c740ff6",
   "metadata": {},
   "source": [
    "### File\n",
    "\n",
    "Displays a control that lets the user select and upload a file from their computer. To define the types of files permissible you can use the \"accept\" attribute. Also, to enable multiple files to be selected, add the \"multiple\" attribute.\n",
    "\n"
   ]
  },
  {
   "cell_type": "markdown",
   "id": "feae71a0",
   "metadata": {},
   "source": [
    "<label for=\"myfile\">Select a file:</label>\n",
    "<input type=\"file\" id=\"myfile\" name=\"myfile\">\n"
   ]
  },
  {
   "cell_type": "markdown",
   "id": "15c778a1",
   "metadata": {},
   "source": [
    "### Hidden\n",
    "\n",
    "Defines a control that is not displayed but whose value is still submitted to the server.\n"
   ]
  },
  {
   "cell_type": "markdown",
   "id": "373facaf",
   "metadata": {},
   "source": [
    "<input type=\"hidden\" id=\"custId\" name=\"custId\" value=\"3487\">\n"
   ]
  },
  {
   "cell_type": "markdown",
   "id": "a49db225",
   "metadata": {},
   "source": [
    "### Image\n",
    "\n",
    "Defines an image as a graphical submit button. You should use the “src” attribute to point to the location of your image file.\n"
   ]
  },
  {
   "cell_type": "markdown",
   "id": "ffc7f20f",
   "metadata": {},
   "source": [
    "<input type=\"image\"src=\"submit_img.png\" alt=\"Submit\" width=\"48\" height=\"48\">\n"
   ]
  },
  {
   "cell_type": "markdown",
   "id": "f8da636e",
   "metadata": {},
   "source": [
    "### Number\n",
    "\n",
    "Defines a control for entering a number. You can use attributes to specify restrictions, such as min and max values allowed, number intervals or a default value.\n"
   ]
  },
  {
   "cell_type": "markdown",
   "id": "e7da872f",
   "metadata": {},
   "source": [
    "<input type=\"number\" id=\"quantity\" name=\"quantity\" min=\"1\" max=\"5\">\n"
   ]
  },
  {
   "cell_type": "markdown",
   "id": "d440e464",
   "metadata": {},
   "source": [
    "### Range\n",
    "\n",
    "Displays a range widget for specifying a number between two values. The precise value, however, is not considered important. This is typically represented using a slider or dial control. To define the range of acceptable values, use the “min” and “max” properties.\n"
   ]
  },
  {
   "cell_type": "markdown",
   "id": "c77ccaa7",
   "metadata": {},
   "source": [
    "<label for=\"volume\">Volume:</label>\n",
    "<input type=\"range\" id=\"volume\" name=\"volume\" min=\"0\" max=\"10\">\n"
   ]
  },
  {
   "cell_type": "markdown",
   "id": "90d23a5b",
   "metadata": {},
   "source": [
    "### Reset\n",
    "\n",
    "Displays a button that resets the contents of the form to their default values.\n"
   ]
  },
  {
   "cell_type": "markdown",
   "id": "7c5c9d12",
   "metadata": {},
   "source": [
    "<input type=\"reset\">\n"
   ]
  },
  {
   "cell_type": "markdown",
   "id": "230dd579",
   "metadata": {},
   "source": [
    "### Search\n",
    "\n",
    "Defines a text field for entering a search query. These are functionally identical to text inputs, but may be styled differently depending on the browser.\n"
   ]
  },
  {
   "cell_type": "markdown",
   "id": "90bc0788",
   "metadata": {},
   "source": [
    "<label for=\"gsearch\">Search in Google:</label>\n",
    "<input type=\"search\" id=\"gsearch\" name=\"gsearch\">\n"
   ]
  },
  {
   "cell_type": "markdown",
   "id": "d1188894",
   "metadata": {},
   "source": [
    "### Time\n",
    "\n",
    "Displays a control for entering a time value in hours and minutes, with no time zone.\n"
   ]
  },
  {
   "cell_type": "code",
   "execution_count": null,
   "id": "b0b952c6",
   "metadata": {
    "trusted": false,
    "vscode": {
     "languageId": "html"
    }
   },
   "outputs": [],
   "source": [
    "<label for=\"appt\">Select a time:</label>\n",
    "<input type=\"time\" id=\"appt\" name=\"appt\">\n"
   ]
  },
  {
   "cell_type": "markdown",
   "id": "35e1f311",
   "metadata": {},
   "source": [
    "### Tel\n",
    "\n",
    "Defines a control for entering a telephone number. Browsers that do not support “tel” fall back to standard text input. You can optionally use the \"pattern\" field to perform validation.\n"
   ]
  },
  {
   "cell_type": "code",
   "execution_count": null,
   "id": "56507dd2",
   "metadata": {
    "trusted": false,
    "vscode": {
     "languageId": "html"
    }
   },
   "outputs": [],
   "source": [
    "<label for=\"phone\">Enter your phone number:</label>\n",
    "<input type=\"tel\" id=\"phone\" name=\"phone\" pattern=\"[+]{1}[0-9]{11,14}\">\n"
   ]
  },
  {
   "cell_type": "markdown",
   "id": "f0f9d817",
   "metadata": {},
   "source": [
    "### Url\n",
    "\n",
    "Displays a field for entering a text URL. It works similar to a text input, but performs automatic validation before being submitted to the server.\n"
   ]
  },
  {
   "cell_type": "markdown",
   "id": "b4f77e9d",
   "metadata": {},
   "source": [
    "<label for=\"homepage\">Add your homepage:</label>\n",
    "<input type=\"url\" id=\"homepage\" name=\"homepage\">\n"
   ]
  },
  {
   "cell_type": "markdown",
   "id": "56002f32",
   "metadata": {},
   "source": [
    "### Week\n",
    "\n",
    "Defines a control for entering a date consisting of a week-year number and a year, with no time zone. Keep in mind that this is a newer type that is not supported by all the browsers.\n"
   ]
  },
  {
   "cell_type": "code",
   "execution_count": null,
   "id": "02d7951b",
   "metadata": {
    "trusted": false,
    "vscode": {
     "languageId": "html"
    }
   },
   "outputs": [],
   "source": [
    "<label for=\"week\">Select a week:</label>\n",
    "<input type=\"week\" id=\"week\" name=\"week\">\n"
   ]
  },
  {
   "cell_type": "markdown",
   "id": "f6b1f823",
   "metadata": {},
   "source": [
    "### Month\n",
    "\n",
    "Displays a control for entering a month and year, with no time zone. Keep in mind that this is a newer type that is not supported by all the browsers.\n"
   ]
  },
  {
   "cell_type": "markdown",
   "id": "ebca713c",
   "metadata": {},
   "source": [
    "### Names\n",
    "\n",
    "Attributes like `given-name`, `family-name`, and `additional-name` (middle name) are used for first, last, and middle name fields, respectively. The broader attribute `name` can be used for a combined name field. \n",
    "\n",
    "### Email\n",
    "\n",
    "`autocomplete=\"email\"` is used for email address fields. \n",
    "\n",
    "### Address\n",
    "\n",
    "A variety of attributes, such as `street-address`, `address-line1`, `address-line2`, `city`, `state`, `postal-code`, and `country`, are used to specify different parts of an address. \n",
    "\n",
    "### Payment Information\n",
    "\n",
    "`cc-number` (credit card number), `cc-exp` (expiration date), cc-cvc (security code), and `cc-name` (name on the card) are used for credit card fields. \n",
    "\n",
    "### Passwords\n",
    "\n",
    "`new-password` for creating new passwords, and `current-password` for login or password change forms, are used for password fields. \n",
    "\n",
    "### Phone Numbers\n",
    "\n",
    "`tel` is used for phone number fields. \n",
    "\n",
    "### Organization\n",
    "\n",
    "`organization` is used for company name fields, and `organization-title` for job title fields. "
   ]
  }
 ],
 "metadata": {
  "kernelspec": {
   "display_name": "Python 3",
   "language": "python",
   "name": "python3"
  },
  "language_info": {
   "codemirror_mode": {
    "name": "ipython",
    "version": 3
   },
   "file_extension": ".py",
   "mimetype": "text/x-python",
   "name": "python",
   "nbconvert_exporter": "python",
   "pygments_lexer": "ipython3",
   "version": "3.10.4"
  }
 },
 "nbformat": 4,
 "nbformat_minor": 5
}
