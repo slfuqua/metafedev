{
 "cells": [
  {
   "cell_type": "markdown",
   "id": "df67b1b9",
   "metadata": {},
   "source": [
    "## Learning Objectives\n",
    "\n",
    "By the end of this reading, you will:\n",
    "\n",
    "- Be able to explain that there are several programming paradigms\n",
    "\n",
    "- Be able to explain the basic difference between the two predominant programming paradigms: functional programming and object-oriented programming\n",
    "\n",
    "- Understand, at a very high level, how the functional programming paradigm works"
   ]
  }
 ],
 "metadata": {
  "language_info": {
   "name": "python"
  }
 },
 "nbformat": 4,
 "nbformat_minor": 5
}
